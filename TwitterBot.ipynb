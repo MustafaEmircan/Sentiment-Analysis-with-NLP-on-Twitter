{
 "cells": [
  {
   "metadata": {},
   "cell_type": "markdown",
   "source": "# Sentiment Analysis with NLP on Twitter",
   "id": "ca40e42d9eb5d7fe"
  },
  {
   "metadata": {},
   "cell_type": "markdown",
   "source": [
    "# TWITTERBOT\n",
    "**The purpose of the TwitterBot Project is to raise awareness that, on social media platforms where users share their happiness, achievements, music they listen to, and movies they watch, there are also thousands of people expressing their sorrow, pain, and loneliness. After retrieving Turkish Tweets from 2022 using Twitter APIs, content that is not related to users' emotions, such as tweets about political figures, public institutions, and breaking news, was excluded from the dataset. The focus was placed solely on tweets that reflect personal emotions and respond to Twitter's \"What's happening?\" question. The tweets were manually labeled based on the emotions they convey, rather than by individual words. In this project, which uses Logistic Regression, a bot was developed that can perform sentiment analysis on live tweets in real time. Immediately after, the bot interacts with the owners of tweets labeled as negative through mentions on Twitter, providing them with playlists designed to offer instant morale and motivation.**"
   ],
   "id": "34e044a374972121"
  },
  {
   "metadata": {},
   "cell_type": "markdown",
   "source": [
    "# BUSINESS PROBLEM\n",
    "**Predicting the sentiment of tweets posted by Twitter users as positive, negative, or neutral based on the emotions they convey.**"
   ],
   "id": "dca2bda52e3a365f"
  },
  {
   "cell_type": "code",
   "id": "initial_id",
   "metadata": {
    "collapsed": true,
    "ExecuteTime": {
     "end_time": "2024-10-15T10:45:48.326883Z",
     "start_time": "2024-10-15T10:45:48.318231Z"
    }
   },
   "source": [
    "import pandas as pd\n",
    "import matplotlib.pyplot as plt\n",
    "from wordcloud import WordCloud\n",
    "from nltk.corpus import stopwords\n",
    "from textblob import Word, TextBlob\n",
    "from sklearn.model_selection import cross_val_score, train_test_split\n",
    "from sklearn.feature_extraction.text import TfidfVectorizer, CountVectorizer\n",
    "from sklearn.ensemble import RandomForestClassifier\n",
    "from sklearn.linear_model import LogisticRegression\n",
    "from sklearn.metrics import classification_report\n",
    "from nltk.sentiment import SentimentIntensityAnalyzer\n",
    "from warnings import filterwarnings\n",
    "from sklearn.preprocessing import LabelEncoder\n",
    "import seaborn as sns\n",
    "from scipy import stats\n",
    "\n",
    "\n",
    "\n",
    "filterwarnings('ignore')\n",
    "pd.set_option('display.max_columns', None)\n",
    "pd.set_option('display.float_format', lambda x: '%.2f' % x)\n",
    "pd.set_option('display.width', 200)"
   ],
   "outputs": [],
   "execution_count": 74
  },
  {
   "metadata": {
    "ExecuteTime": {
     "end_time": "2024-10-15T09:54:36.216760Z",
     "start_time": "2024-10-15T09:54:36.145200Z"
    }
   },
   "cell_type": "code",
   "source": [
    "df = pd.read_csv(\"/Users/mustafaemircan/PycharmProjects/MiuulBootcamp/PROJECTS/NLP PROJECTS/TwitterBot/tweets_labeled.csv\")\n",
    "df.head(10)"
   ],
   "id": "c98e76cf31cebbe4",
   "outputs": [
    {
     "data": {
      "text/plain": [
       "              tweet_id                                              tweet                       date  label\n",
       "0  1606767075984375808  Berk Ali (kedim) seni çok özledim. Ölmek için ...  2022-12-24 21:41:37+00:00      1\n",
       "1  1537178207677448193  Yani, öylesine ciddiye alacaksın ki yaşamayı, ...  2022-06-15 21:00:18+00:00      1\n",
       "2  1536458790802972673            saçlarının gölgesinde\\nölmek ne güzeldi  2022-06-13 21:21:36+00:00      1\n",
       "3  1495413883166760960  Öyle güzel baktın ki, gözlerime\\nsevmek değil ...  2022-02-20 15:03:47+00:00      1\n",
       "4  1490420667614904334  sevmek biri için ölmek değil her şeye rağmen y...  2022-02-06 20:22:32+00:00      1\n",
       "5  1490391945142751233  Halbuki sevmek biri için ölmek değil onun için...  2022-02-06 18:28:24+00:00      1\n",
       "6  1489780520359759873  Gülmek için bir tesadüf\\nBeklemenin anlamı yok...  2022-02-05 01:58:49+00:00      1\n",
       "7  1608551263037435904  ✨2023’te sağlıklı,güzel kararlar,mutluluk,sept...  2022-12-29 19:51:21+00:00      1\n",
       "8  1584421772166037505  Depresyon ve anksiyeteyle uğraşırken arkadaşla...  2022-10-24 05:49:22+00:00      1\n",
       "9  1532802348350840836  Bisikletimdeki ledler ve ışıklı kulaklığım ile...  2022-06-03 19:12:12+00:00      1"
      ],
      "text/html": [
       "<div>\n",
       "<style scoped>\n",
       "    .dataframe tbody tr th:only-of-type {\n",
       "        vertical-align: middle;\n",
       "    }\n",
       "\n",
       "    .dataframe tbody tr th {\n",
       "        vertical-align: top;\n",
       "    }\n",
       "\n",
       "    .dataframe thead th {\n",
       "        text-align: right;\n",
       "    }\n",
       "</style>\n",
       "<table border=\"1\" class=\"dataframe\">\n",
       "  <thead>\n",
       "    <tr style=\"text-align: right;\">\n",
       "      <th></th>\n",
       "      <th>tweet_id</th>\n",
       "      <th>tweet</th>\n",
       "      <th>date</th>\n",
       "      <th>label</th>\n",
       "    </tr>\n",
       "  </thead>\n",
       "  <tbody>\n",
       "    <tr>\n",
       "      <th>0</th>\n",
       "      <td>1606767075984375808</td>\n",
       "      <td>Berk Ali (kedim) seni çok özledim. Ölmek için ...</td>\n",
       "      <td>2022-12-24 21:41:37+00:00</td>\n",
       "      <td>1</td>\n",
       "    </tr>\n",
       "    <tr>\n",
       "      <th>1</th>\n",
       "      <td>1537178207677448193</td>\n",
       "      <td>Yani, öylesine ciddiye alacaksın ki yaşamayı, ...</td>\n",
       "      <td>2022-06-15 21:00:18+00:00</td>\n",
       "      <td>1</td>\n",
       "    </tr>\n",
       "    <tr>\n",
       "      <th>2</th>\n",
       "      <td>1536458790802972673</td>\n",
       "      <td>saçlarının gölgesinde\\nölmek ne güzeldi</td>\n",
       "      <td>2022-06-13 21:21:36+00:00</td>\n",
       "      <td>1</td>\n",
       "    </tr>\n",
       "    <tr>\n",
       "      <th>3</th>\n",
       "      <td>1495413883166760960</td>\n",
       "      <td>Öyle güzel baktın ki, gözlerime\\nsevmek değil ...</td>\n",
       "      <td>2022-02-20 15:03:47+00:00</td>\n",
       "      <td>1</td>\n",
       "    </tr>\n",
       "    <tr>\n",
       "      <th>4</th>\n",
       "      <td>1490420667614904334</td>\n",
       "      <td>sevmek biri için ölmek değil her şeye rağmen y...</td>\n",
       "      <td>2022-02-06 20:22:32+00:00</td>\n",
       "      <td>1</td>\n",
       "    </tr>\n",
       "    <tr>\n",
       "      <th>5</th>\n",
       "      <td>1490391945142751233</td>\n",
       "      <td>Halbuki sevmek biri için ölmek değil onun için...</td>\n",
       "      <td>2022-02-06 18:28:24+00:00</td>\n",
       "      <td>1</td>\n",
       "    </tr>\n",
       "    <tr>\n",
       "      <th>6</th>\n",
       "      <td>1489780520359759873</td>\n",
       "      <td>Gülmek için bir tesadüf\\nBeklemenin anlamı yok...</td>\n",
       "      <td>2022-02-05 01:58:49+00:00</td>\n",
       "      <td>1</td>\n",
       "    </tr>\n",
       "    <tr>\n",
       "      <th>7</th>\n",
       "      <td>1608551263037435904</td>\n",
       "      <td>✨2023’te sağlıklı,güzel kararlar,mutluluk,sept...</td>\n",
       "      <td>2022-12-29 19:51:21+00:00</td>\n",
       "      <td>1</td>\n",
       "    </tr>\n",
       "    <tr>\n",
       "      <th>8</th>\n",
       "      <td>1584421772166037505</td>\n",
       "      <td>Depresyon ve anksiyeteyle uğraşırken arkadaşla...</td>\n",
       "      <td>2022-10-24 05:49:22+00:00</td>\n",
       "      <td>1</td>\n",
       "    </tr>\n",
       "    <tr>\n",
       "      <th>9</th>\n",
       "      <td>1532802348350840836</td>\n",
       "      <td>Bisikletimdeki ledler ve ışıklı kulaklığım ile...</td>\n",
       "      <td>2022-06-03 19:12:12+00:00</td>\n",
       "      <td>1</td>\n",
       "    </tr>\n",
       "  </tbody>\n",
       "</table>\n",
       "</div>"
      ]
     },
     "execution_count": 2,
     "metadata": {},
     "output_type": "execute_result"
    }
   ],
   "execution_count": 2
  },
  {
   "metadata": {
    "ExecuteTime": {
     "end_time": "2024-10-15T09:54:45.380271Z",
     "start_time": "2024-10-15T09:54:45.377545Z"
    }
   },
   "cell_type": "code",
   "source": "df.shape",
   "id": "7010bd4ee3363ab",
   "outputs": [
    {
     "data": {
      "text/plain": [
       "(12960, 4)"
      ]
     },
     "execution_count": 3,
     "metadata": {},
     "output_type": "execute_result"
    }
   ],
   "execution_count": 3
  },
  {
   "metadata": {
    "ExecuteTime": {
     "end_time": "2024-10-15T09:54:53.105171Z",
     "start_time": "2024-10-15T09:54:53.091935Z"
    }
   },
   "cell_type": "code",
   "source": "df[\"label\"].value_counts()",
   "id": "dd98f84939461803",
   "outputs": [
    {
     "data": {
      "text/plain": [
       "label\n",
       " 0    8449\n",
       "-1    2904\n",
       " 1    1607\n",
       "Name: count, dtype: int64"
      ]
     },
     "execution_count": 4,
     "metadata": {},
     "output_type": "execute_result"
    }
   ],
   "execution_count": 4
  },
  {
   "metadata": {
    "ExecuteTime": {
     "end_time": "2024-10-15T09:56:58.375299Z",
     "start_time": "2024-10-15T09:56:58.250559Z"
    }
   },
   "cell_type": "code",
   "source": [
    "# Count the number of values\n",
    "label_counts = df[\"label\"].value_counts()\n",
    "\n",
    "# Count the number of values\n",
    "plt.figure(figsize=(8, 6))\n",
    "label_counts.plot(kind='bar', color=['skyblue', 'lightgreen', 'salmon'])\n",
    "\n",
    "# Graph details\n",
    "plt.title('Label Değerlerinin Dağılımı')\n",
    "plt.xlabel('Label Değerleri')\n",
    "plt.ylabel('Frekans')\n",
    "plt.xticks(rotation=0)  \n",
    "plt.show()"
   ],
   "id": "4c77021762be0bbf",
   "outputs": [
    {
     "data": {
      "text/plain": [
       "<Figure size 800x600 with 1 Axes>"
      ],
      "image/png": "[encoded data removed]"
     },
     "metadata": {},
     "output_type": "display_data"
    }
   ],
   "execution_count": 5
  },
  {
   "metadata": {
    "ExecuteTime": {
     "end_time": "2024-10-15T09:58:14.877941Z",
     "start_time": "2024-10-15T09:58:14.852825Z"
    }
   },
   "cell_type": "code",
   "source": "df.isnull().sum()",
   "id": "c2e44a6bd4f492ec",
   "outputs": [
    {
     "data": {
      "text/plain": [
       "tweet_id    0\n",
       "tweet       1\n",
       "date        0\n",
       "label       0\n",
       "dtype: int64"
      ]
     },
     "execution_count": 6,
     "metadata": {},
     "output_type": "execute_result"
    }
   ],
   "execution_count": 6
  },
  {
   "metadata": {
    "ExecuteTime": {
     "end_time": "2024-10-15T14:53:03.959385Z",
     "start_time": "2024-10-15T14:53:03.939560Z"
    }
   },
   "cell_type": "code",
   "source": "df.dropna(axis=0, inplace=True)",
   "id": "7ee177a3e67e8e85",
   "outputs": [],
   "execution_count": 145
  },
  {
   "metadata": {
    "ExecuteTime": {
     "end_time": "2024-10-15T10:03:19.666984Z",
     "start_time": "2024-10-15T10:03:19.663928Z"
    }
   },
   "cell_type": "code",
   "source": "print(df['date'].head())",
   "id": "4b0ef20d62368386",
   "outputs": [
    {
     "name": "stdout",
     "output_type": "stream",
     "text": [
      "0    2022-12-24 21:41:37+00:00\n",
      "1    2022-06-15 21:00:18+00:00\n",
      "2    2022-06-13 21:21:36+00:00\n",
      "3    2022-02-20 15:03:47+00:00\n",
      "4    2022-02-06 20:22:32+00:00\n",
      "Name: date, dtype: object\n"
     ]
    }
   ],
   "execution_count": 12
  },
  {
   "metadata": {},
   "cell_type": "markdown",
   "source": "# We changed the date variable to GMT+03:00.",
   "id": "e3b5c9127f438eca"
  },
  {
   "metadata": {
    "ExecuteTime": {
     "end_time": "2024-10-15T10:03:58.114757Z",
     "start_time": "2024-10-15T10:03:58.036195Z"
    }
   },
   "cell_type": "code",
   "source": [
    "df['date'] = pd.to_datetime(df['date'])  \n",
    "df['date'] = df['date'].dt.tz_convert('Etc/GMT-3')\n",
    "print(df['date'].head())"
   ],
   "id": "8599a17e0f8139d1",
   "outputs": [
    {
     "name": "stdout",
     "output_type": "stream",
     "text": [
      "0   2022-12-25 00:41:37+03:00\n",
      "1   2022-06-16 00:00:18+03:00\n",
      "2   2022-06-14 00:21:36+03:00\n",
      "3   2022-02-20 18:03:47+03:00\n",
      "4   2022-02-06 23:22:32+03:00\n",
      "Name: date, dtype: datetime64[ns, Etc/GMT-3]\n"
     ]
    }
   ],
   "execution_count": 14
  },
  {
   "metadata": {},
   "cell_type": "markdown",
   "source": "# Creating and Formatting the \"month\" Variable",
   "id": "9396f6c9e76f7f56"
  },
  {
   "metadata": {
    "ExecuteTime": {
     "end_time": "2024-10-15T10:06:49.215628Z",
     "start_time": "2024-10-15T10:06:49.194044Z"
    }
   },
   "cell_type": "code",
   "source": "df[\"month\"] = df[\"date\"].dt.month_name()",
   "id": "24e89a0c0e0848bc",
   "outputs": [],
   "execution_count": 15
  },
  {
   "metadata": {
    "ExecuteTime": {
     "end_time": "2024-10-15T10:07:20.497387Z",
     "start_time": "2024-10-15T10:07:20.476892Z"
    }
   },
   "cell_type": "code",
   "source": "df[\"month\"].value_counts()",
   "id": "3e689591e2175c",
   "outputs": [
    {
     "data": {
      "text/plain": [
       "month\n",
       "December     2491\n",
       "August       1349\n",
       "November     1256\n",
       "September    1108\n",
       "October      1100\n",
       "March         930\n",
       "January       923\n",
       "February      850\n",
       "May           781\n",
       "July          774\n",
       "June          718\n",
       "April         680\n",
       "Name: count, dtype: int64"
      ]
     },
     "execution_count": 18,
     "metadata": {},
     "output_type": "execute_result"
    }
   ],
   "execution_count": 18
  },
  {
   "metadata": {
    "ExecuteTime": {
     "end_time": "2024-10-15T10:10:15.155536Z",
     "start_time": "2024-10-15T10:10:15.135454Z"
    }
   },
   "cell_type": "code",
   "source": [
    "df[\"month\"] = df[\"month\"].replace({'December': 'Aralık',\n",
    "                                   'January': 'Ocak',\n",
    "                                   'February': 'Şubat',\n",
    "                                   'March': 'Mart',\n",
    "                                   'April': 'Nisan',\n",
    "                                   'May': 'Mayıs',\n",
    "                                   'June': 'Haziran',\n",
    "                                   'July': 'Temmuz',\n",
    "                                   'August': 'Ağustos',\n",
    "                                   'September': 'Eylül',\n",
    "                                   'October': 'Ekim',\n",
    "                                   'November': 'Kasım'\n",
    "                                   })"
   ],
   "id": "a4139505c3f1fa5",
   "outputs": [],
   "execution_count": 20
  },
  {
   "metadata": {},
   "cell_type": "markdown",
   "source": "# Creating and Formatting the \"seaons\" Variable",
   "id": "10d0875d58fb6eeb"
  },
  {
   "metadata": {
    "ExecuteTime": {
     "end_time": "2024-10-15T10:15:16.377212Z",
     "start_time": "2024-10-15T10:15:16.370090Z"
    }
   },
   "cell_type": "code",
   "source": [
    "seasons ={\"Ocak\": \"Kış\",\n",
    "          \"Şubat\": \"Kış\",\n",
    "          \"Mart\": \"İlkbahar\",\n",
    "          \"Nisan\": \"İlkbahar\",\n",
    "          \"Mayıs\": \"İlkbahar\",\n",
    "          \"Haziran\": \"Yaz\",\n",
    "          \"Temmuz\": \"Yaz\",\n",
    "          \"Ağustos\": \"Yaz\",\n",
    "          \"Eylül\": \"Sonbahar\",\n",
    "          \"Ekim\": \"Sonbahar\",\n",
    "          \"Kasım\": \"Sonbahar\",\n",
    "          \"Aralık\": \"Kış\"}"
   ],
   "id": "7ac89ea796283b8d",
   "outputs": [],
   "execution_count": 28
  },
  {
   "metadata": {
    "ExecuteTime": {
     "end_time": "2024-10-15T10:15:17.928511Z",
     "start_time": "2024-10-15T10:15:17.922352Z"
    }
   },
   "cell_type": "code",
   "source": "df[\"seasons\"] = df[\"month\"].map(seasons)",
   "id": "191edacbaf7dc38a",
   "outputs": [],
   "execution_count": 29
  },
  {
   "metadata": {
    "ExecuteTime": {
     "end_time": "2024-10-15T10:15:18.656597Z",
     "start_time": "2024-10-15T10:15:18.649586Z"
    }
   },
   "cell_type": "code",
   "source": "df[\"seasons\"].value_counts()",
   "id": "67d3efdd69058553",
   "outputs": [
    {
     "data": {
      "text/plain": [
       "seasons\n",
       "Kış         4264\n",
       "Sonbahar    3464\n",
       "Yaz         2841\n",
       "İlkbahar    2391\n",
       "Name: count, dtype: int64"
      ]
     },
     "execution_count": 30,
     "metadata": {},
     "output_type": "execute_result"
    }
   ],
   "execution_count": 30
  },
  {
   "metadata": {
    "ExecuteTime": {
     "end_time": "2024-10-15T10:19:18.588146Z",
     "start_time": "2024-10-15T10:19:18.484637Z"
    }
   },
   "cell_type": "code",
   "source": [
    "seasons_counts = df[\"seasons\"].value_counts()\n",
    "\n",
    "plt.figure(figsize=(8, 6))\n",
    "seasons_counts.plot(kind='bar', color=['skyblue', 'lightgreen', 'salmon', 'gold'])\n",
    "\n",
    "plt.title('Season Değerlerinin Dağılımı')\n",
    "plt.xlabel('Season Değerleri')\n",
    "plt.ylabel('Frekans')\n",
    "plt.xticks(rotation=0)  \n",
    "plt.show()"
   ],
   "id": "bef2ebce912760a2",
   "outputs": [
    {
     "data": {
      "text/plain": [
       "<Figure size 800x600 with 1 Axes>"
      ],
      "image/png": "[encoded data removed]"
     },
     "metadata": {},
     "output_type": "display_data"
    }
   ],
   "execution_count": 43
  },
  {
   "metadata": {},
   "cell_type": "markdown",
   "source": "# Creating and Formatting the \"days\" Variable",
   "id": "9bfa3ada47426d87"
  },
  {
   "metadata": {
    "ExecuteTime": {
     "end_time": "2024-10-15T10:17:14.242767Z",
     "start_time": "2024-10-15T10:17:14.109712Z"
    }
   },
   "cell_type": "code",
   "source": [
    "df[\"days\"] = [date.strftime('%A') for date in df[\"date\"]]\n",
    "df[\"days\"] = df[\"days\"].replace({\"Monday\" : \"Pazartesi\",\n",
    "                                 \"Tuesday\" : \"Salı\",\n",
    "                                 \"Wednesday\" : \"Çarşamba\",\n",
    "                                 \"Thursday\": \"Perşembe\",\n",
    "                                 \"Friday\" : \"Cuma\",\n",
    "                                 \"Saturday\" : \"Cumartesi\",\n",
    "                                 \"Sunday\": \"Pazar\"})"
   ],
   "id": "81cd8f7e7e4ee5ba",
   "outputs": [],
   "execution_count": 34
  },
  {
   "metadata": {
    "ExecuteTime": {
     "end_time": "2024-10-15T10:18:03.571987Z",
     "start_time": "2024-10-15T10:18:03.547563Z"
    }
   },
   "cell_type": "code",
   "source": "df[\"days\"].value_counts()",
   "id": "6ed72664a5ae4d81",
   "outputs": [
    {
     "data": {
      "text/plain": [
       "days\n",
       "Pazartesi    1912\n",
       "Cuma         1909\n",
       "Perşembe     1897\n",
       "Pazar        1884\n",
       "Salı         1883\n",
       "Çarşamba     1833\n",
       "Cumartesi    1642\n",
       "Name: count, dtype: int64"
      ]
     },
     "execution_count": 39,
     "metadata": {},
     "output_type": "execute_result"
    }
   ],
   "execution_count": 39
  },
  {
   "metadata": {
    "ExecuteTime": {
     "end_time": "2024-10-15T10:19:39.374012Z",
     "start_time": "2024-10-15T10:19:39.278554Z"
    }
   },
   "cell_type": "code",
   "source": [
    "days_counts = df[\"days\"].value_counts()\n",
    "\n",
    "plt.figure(figsize=(8, 6))\n",
    "days_counts.plot(kind='bar', color=['skyblue', 'lightgreen', 'salmon', 'gold', 'purple', 'orange', 'pink'])\n",
    "\n",
    "plt.title('Day Değerlerinin Dağılımı')\n",
    "plt.xlabel('Day Değerleri')\n",
    "plt.ylabel('Frekans')\n",
    "plt.xticks(rotation=0)  \n",
    "plt.show()"
   ],
   "id": "74e055c9fcad9d27",
   "outputs": [
    {
     "data": {
      "text/plain": [
       "<Figure size 800x600 with 1 Axes>"
      ],
      "image/png": "[encoded data removed]"
     },
     "metadata": {},
     "output_type": "display_data"
    }
   ],
   "execution_count": 44
  },
  {
   "metadata": {},
   "cell_type": "markdown",
   "source": "## Dividing the Day into Six 4-Hour Intervals",
   "id": "fb6b88d0f78189ce"
  },
  {
   "metadata": {
    "ExecuteTime": {
     "end_time": "2024-10-15T10:20:39.292748Z",
     "start_time": "2024-10-15T10:20:39.267851Z"
    }
   },
   "cell_type": "code",
   "source": "df[\"hour\"] = df[\"date\"].dt.hour",
   "id": "aed6c18511e920d2",
   "outputs": [],
   "execution_count": 45
  },
  {
   "metadata": {
    "ExecuteTime": {
     "end_time": "2024-10-15T10:23:17.817941Z",
     "start_time": "2024-10-15T10:23:17.807891Z"
    }
   },
   "cell_type": "code",
   "source": [
    "df['4hour_interval'] = (df['hour'] // 2) * 2\n",
    "interval = {0: '0-2',\n",
    "            2: '2-4',\n",
    "            4: '4-6',\n",
    "            6: '6-8',\n",
    "            8: '8-10',\n",
    "            10: '10-12',\n",
    "            12: '12-14',\n",
    "            14: '14-16',\n",
    "            16: '16-18',\n",
    "            18: '18-20',\n",
    "            20: '20-22',\n",
    "            22: '22-24'\n",
    "            }"
   ],
   "id": "7ee9a7ea95d06a62",
   "outputs": [],
   "execution_count": 48
  },
  {
   "metadata": {
    "ExecuteTime": {
     "end_time": "2024-10-15T10:24:51.474711Z",
     "start_time": "2024-10-15T10:24:51.465852Z"
    }
   },
   "cell_type": "code",
   "source": "df[\"4hour_interval\"] = df[\"4hour_interval\"].map(interval)",
   "id": "a4bf2334b91ceda4",
   "outputs": [],
   "execution_count": 49
  },
  {
   "metadata": {
    "ExecuteTime": {
     "end_time": "2024-10-15T10:24:52.789688Z",
     "start_time": "2024-10-15T10:24:52.778001Z"
    }
   },
   "cell_type": "code",
   "source": [
    "df[\"time_interval\"] = df[\"4hour_interval\"].replace({\"0-2\": \"22-02\",\n",
    "                                                   \"22-24\": \"22-02\",\n",
    "                                                   \"2-4\": \"02-06\",\n",
    "                                                   \"4-6\": \"02-06\",\n",
    "                                                   \"6-8\": \"06-10\",\n",
    "                                                   \"8-10\": \"06-10\",\n",
    "                                                   \"10-12\": \"10-14\",\n",
    "                                                   \"12-14\": \"10-14\",\n",
    "                                                   \"14-16\": \"14-18\",\n",
    "                                                   \"16-18\": \"14-18\",\n",
    "                                                   \"18-20\": \"18-22\",\n",
    "                                                   \"20-22\": \"18-22\"})"
   ],
   "id": "50b0fee98de4e38b",
   "outputs": [],
   "execution_count": 50
  },
  {
   "metadata": {
    "ExecuteTime": {
     "end_time": "2024-10-15T10:42:22.699982Z",
     "start_time": "2024-10-15T10:42:22.674696Z"
    }
   },
   "cell_type": "code",
   "source": "df.drop([\"4hour_interval\", \"hour\"], axis=1, inplace=True)",
   "id": "8dc345b86b45e396",
   "outputs": [],
   "execution_count": 69
  },
  {
   "metadata": {
    "ExecuteTime": {
     "end_time": "2024-10-15T10:25:04.912319Z",
     "start_time": "2024-10-15T10:25:04.903907Z"
    }
   },
   "cell_type": "code",
   "source": "df[\"4hour_interval\"].value_counts()",
   "id": "d14b84d85a7d41dc",
   "outputs": [
    {
     "data": {
      "text/plain": [
       "4hour_interval\n",
       "0-2      3104\n",
       "22-24    1944\n",
       "20-22    1432\n",
       "18-20    1229\n",
       "16-18     922\n",
       "12-14     824\n",
       "14-16     798\n",
       "10-12     786\n",
       "8-10      649\n",
       "2-4       613\n",
       "6-8       408\n",
       "4-6       251\n",
       "Name: count, dtype: int64"
      ]
     },
     "execution_count": 51,
     "metadata": {},
     "output_type": "execute_result"
    }
   ],
   "execution_count": 51
  },
  {
   "metadata": {
    "ExecuteTime": {
     "end_time": "2024-10-15T10:28:20.288187Z",
     "start_time": "2024-10-15T10:28:20.275791Z"
    }
   },
   "cell_type": "code",
   "source": "df[\"label\"] = df[\"label\"].replace({-1: \"Negatif\", 0: \"Nötr\", 1: \"Pozitif\"})",
   "id": "a3257f55705d4ef2",
   "outputs": [],
   "execution_count": 52
  },
  {
   "metadata": {
    "ExecuteTime": {
     "end_time": "2024-10-15T10:28:21.184479Z",
     "start_time": "2024-10-15T10:28:21.180646Z"
    }
   },
   "cell_type": "code",
   "source": "df[\"label\"].value_counts()",
   "id": "9788f4a51e1ad99e",
   "outputs": [
    {
     "data": {
      "text/plain": [
       "label\n",
       "Nötr       8449\n",
       "Negatif    2904\n",
       "Pozitif    1607\n",
       "Name: count, dtype: int64"
      ]
     },
     "execution_count": 53,
     "metadata": {},
     "output_type": "execute_result"
    }
   ],
   "execution_count": 53
  },
  {
   "metadata": {},
   "cell_type": "markdown",
   "source": "# Text Formatting and Cleaning",
   "id": "ebd6acc581662676"
  },
  {
   "metadata": {
    "ExecuteTime": {
     "end_time": "2024-10-15T11:57:47.683247Z",
     "start_time": "2024-10-15T11:57:47.674635Z"
    }
   },
   "cell_type": "code",
   "source": "df[\"tweet\"] = df[\"tweet\"].str.lower()",
   "id": "ff629e3e7726eadf",
   "outputs": [],
   "execution_count": 118
  },
  {
   "metadata": {},
   "cell_type": "code",
   "outputs": [],
   "execution_count": 107,
   "source": "df[\"tweet\"] = df[\"tweet\"].str.replace('[^\\w\\s]', ' ', regex=True)",
   "id": "3b4a3de5ef399e62"
  },
  {
   "metadata": {},
   "cell_type": "code",
   "outputs": [],
   "execution_count": 108,
   "source": "df[\"tweet\"] = df[\"tweet\"].str.replace('\\d', '', regex=True)",
   "id": "d502360085e385bc"
  },
  {
   "metadata": {},
   "cell_type": "code",
   "outputs": [
    {
     "name": "stderr",
     "output_type": "stream",
     "text": [
      "[nltk_data] Downloading package stopwords to\n",
      "[nltk_data]     /Users/mustafaemircan/nltk_data...\n",
      "[nltk_data]   Package stopwords is already up-to-date!\n"
     ]
    },
    {
     "data": {
      "text/plain": [
       "True"
      ]
     },
     "execution_count": 109,
     "metadata": {},
     "output_type": "execute_result"
    }
   ],
   "execution_count": 109,
   "source": [
    "import nltk\n",
    "nltk.download(\"stopwords\")"
   ],
   "id": "c7e89b6e123d99dc"
  },
  {
   "metadata": {},
   "cell_type": "code",
   "outputs": [
    {
     "data": {
      "text/plain": [
       "0    berk ali kedim seni özledim ölmek küçücüktün s...\n",
       "1    öylesine ciddiye alacaksın yaşamayı yetmişinde...\n",
       "2                  saçlarının gölgesinde ölmek güzeldi\n",
       "3    öyle güzel baktın gözlerime sevmek değil ölmek...\n",
       "4      sevmek ölmek değil şeye rağmen yaşayabilmek miş\n",
       "Name: tweet, dtype: object"
      ]
     },
     "execution_count": 113,
     "metadata": {},
     "output_type": "execute_result"
    }
   ],
   "execution_count": 113,
   "source": [
    "sw = stopwords.words(\"turkish\")\n",
    "\n",
    "df[\"tweet\"] = df[\"tweet\"].apply(lambda x: \" \".join(x for x in str(x).split() if x not in sw))\n",
    "df[\"tweet\"].head()"
   ],
   "id": "be3f4071d743e938"
  },
  {
   "metadata": {},
   "cell_type": "code",
   "outputs": [
    {
     "name": "stderr",
     "output_type": "stream",
     "text": [
      "[nltk_data] Downloading package wordnet to\n",
      "[nltk_data]     /Users/mustafaemircan/nltk_data...\n",
      "[nltk_data]   Package wordnet is already up-to-date!\n"
     ]
    },
    {
     "data": {
      "text/plain": [
       "0    berk ali kedim seni özledim ölmek küçücüktün s...\n",
       "1    öylesine ciddiye alacaksın yaşamayı yetmişinde...\n",
       "2                  saçlarının gölgesinde ölmek güzeldi\n",
       "3    öyle güzel baktın gözlerime sevmek değil ölmek...\n",
       "4      sevmek ölmek değil şeye rağmen yaşayabilmek miş\n",
       "Name: tweet, dtype: object"
      ]
     },
     "execution_count": 114,
     "metadata": {},
     "output_type": "execute_result"
    }
   ],
   "execution_count": 114,
   "source": [
    "nltk.download('wordnet')\n",
    "df['tweet'] = df['tweet'].apply(lambda x: \" \".join([Word(word).lemmatize() for word in x.split()]))\n",
    "df[\"tweet\"].head()"
   ],
   "id": "c21171bea0c9d06a"
  },
  {
   "metadata": {},
   "cell_type": "markdown",
   "source": "# Capturing Categorical and Numerical Variables",
   "id": "f8fb9321f1081a31"
  },
  {
   "metadata": {},
   "cell_type": "code",
   "outputs": [
    {
     "name": "stdout",
     "output_type": "stream",
     "text": [
      "Observations: 12959\n",
      "Variables: 8\n",
      "cat_cols: 5\n",
      "num_cols: 2\n",
      "cat_but_car: 1\n",
      "num_but_cat: 1\n",
      "#############\n",
      "Cat_Cols : ['month', 'seasons', 'days', 'time_interval', 'label']\n",
      "#############\n",
      "Num_Cols : ['tweet_id', 'date']\n",
      "#############\n",
      "Cat_But_Car : ['tweet']\n"
     ]
    }
   ],
   "execution_count": 115,
   "source": [
    "def grab_col_names(dataframe, cat_th=10, car_th=20):\n",
    "    # cat_cols, cat_but_car\n",
    "    cat_cols = [col for col in dataframe.columns if dataframe[col].dtypes == \"O\"]\n",
    "    num_but_cat = [col for col in dataframe.columns if dataframe[col].nunique() < cat_th and\n",
    "                   dataframe[col].dtypes != \"O\"]\n",
    "    cat_but_car = [col for col in dataframe.columns if dataframe[col].nunique() > car_th and\n",
    "                   dataframe[col].dtypes == \"O\"]\n",
    "    cat_cols = cat_cols + num_but_cat\n",
    "    cat_cols = [col for col in cat_cols if col not in cat_but_car]\n",
    "\n",
    "    # num_cols\n",
    "    num_cols = [col for col in dataframe.columns if dataframe[col].dtypes != \"O\"]\n",
    "    num_cols = [col for col in num_cols if col not in num_but_cat]\n",
    "\n",
    "    print(f\"Observations: {dataframe.shape[0]}\")\n",
    "    print(f\"Variables: {dataframe.shape[1]}\")\n",
    "    print(f\"cat_cols: {len(cat_cols)}\")\n",
    "    print(f\"num_cols: {len(num_cols)}\")\n",
    "    print(f\"cat_but_car: {len(cat_but_car)}\")\n",
    "    print(f\"num_but_cat: {len(num_but_cat)}\")\n",
    "\n",
    "    return cat_cols, num_cols, cat_but_car\n",
    "\n",
    "\n",
    "cat_cols, num_cols, cat_but_car = grab_col_names(df, car_th=25)\n",
    "print(\"#############\")\n",
    "print(f\"Cat_Cols : {cat_cols}\")\n",
    "print(\"#############\")\n",
    "print(f\"Num_Cols : {num_cols}\")\n",
    "print(\"#############\")\n",
    "print(f\"Cat_But_Car : {cat_but_car}\")"
   ],
   "id": "c60af1fcecc2b934"
  },
  {
   "metadata": {},
   "cell_type": "markdown",
   "source": "# Analysis of Categorical Variables with the Target Variable",
   "id": "74426e3a60c6b398"
  },
  {
   "metadata": {},
   "cell_type": "code",
   "outputs": [
    {
     "name": "stdout",
     "output_type": "stream",
     "text": [
      "         TARGET_MEAN\n",
      "month               \n",
      "Aralık          0.92\n",
      "Ağustos         0.95\n",
      "Ekim            0.89\n",
      "Eylül           0.90\n",
      "Haziran         0.92\n",
      "Kasım           0.95\n",
      "Mart            0.90\n",
      "Mayıs           0.85\n",
      "Nisan           0.84\n",
      "Ocak            0.82\n",
      "Temmuz          0.90\n",
      "Şubat           0.88\n",
      "\n",
      "\n",
      "          TARGET_MEAN\n",
      "seasons              \n",
      "Kış              0.89\n",
      "Sonbahar         0.92\n",
      "Yaz              0.93\n",
      "İlkbahar         0.87\n",
      "\n",
      "\n",
      "           TARGET_MEAN\n",
      "days                  \n",
      "Cuma              0.90\n",
      "Cumartesi         0.89\n",
      "Pazar             0.90\n",
      "Pazartesi         0.91\n",
      "Perşembe          0.92\n",
      "Salı              0.87\n",
      "Çarşamba          0.91\n",
      "\n",
      "\n",
      "               TARGET_MEAN\n",
      "time_interval             \n",
      "02-06                 0.80\n",
      "06-10                 0.98\n",
      "10-14                 0.90\n",
      "14-18                 0.89\n",
      "18-22                 0.85\n",
      "22-02                 0.93\n",
      "\n",
      "\n",
      "       TARGET_MEAN\n",
      "label             \n",
      "0             0.00\n",
      "1             1.00\n",
      "2             2.00\n",
      "\n",
      "\n"
     ]
    }
   ],
   "execution_count": 116,
   "source": [
    "def target_summary_with_cat(dataframe, target, categorical_col):\n",
    "    print(pd.DataFrame({\"TARGET_MEAN\": dataframe.groupby(categorical_col)[target].mean()}), end=\"\\n\\n\\n\")\n",
    "\n",
    "\n",
    "for col in cat_cols:\n",
    "    target_summary_with_cat(df, \"label\", col)"
   ],
   "id": "89f130666c8e7328"
  },
  {
   "metadata": {},
   "cell_type": "markdown",
   "source": "# Analysis of Numerical Variables with the Target Variable",
   "id": "2318cf469c9703ff"
  },
  {
   "metadata": {},
   "cell_type": "code",
   "outputs": [
    {
     "name": "stdout",
     "output_type": "stream",
     "text": [
      "count                 12959.00\n",
      "mean    1554231054107931392.00\n",
      "std       41062993224116944.00\n",
      "min     1477067251597590528.00\n",
      "5%      1484663018211268608.00\n",
      "10%     1492807154913619968.00\n",
      "20%     1507848891240242432.00\n",
      "30%     1527742498586897664.00\n",
      "40%     1548040388326077952.00\n",
      "50%     1560629233680289792.00\n",
      "60%     1571973458672241920.00\n",
      "70%     1585680608470106112.00\n",
      "80%     1597250728057323520.00\n",
      "90%     1606417896792431104.00\n",
      "95%     1607882493423359232.00\n",
      "99%     1608855401121859072.00\n",
      "max     1608967619062923264.00\n",
      "Name: tweet_id, dtype: float64\n",
      "Skewness: -0.32\n",
      "Kurtosis: -1.20\n"
     ]
    },
    {
     "data": {
      "text/plain": [
       "<Figure size 1200x1400 with 7 Axes>"
      ],
      "image/png": "[encoded data removed]"
     },
     "metadata": {},
     "output_type": "display_data"
    },
    {
     "name": "stdout",
     "output_type": "stream",
     "text": [
      "#####################################\n"
     ]
    }
   ],
   "execution_count": 117,
   "source": [
    "def num_summary(dataframe, numerical_col, plot=False, target_col=None):\n",
    "    quantiles = [0.05, 0.10, 0.20, 0.30, 0.40, 0.50, 0.60, 0.70, 0.80, 0.90, 0.95, 0.99]\n",
    "    desc = dataframe[numerical_col].describe(quantiles)\n",
    "    skewness = dataframe[numerical_col].skew()\n",
    "    kurtosis = dataframe[numerical_col].kurtosis()\n",
    "\n",
    "    print(desc)\n",
    "    print(f\"Skewness: {skewness:.2f}\")\n",
    "    print(f\"Kurtosis: {kurtosis:.2f}\")\n",
    "\n",
    "    if plot:\n",
    "        fig, axs = plt.subplots(3, 2, figsize=(12, 14))\n",
    "\n",
    "        # Histogram\n",
    "        axs[0, 0].hist(dataframe[numerical_col], bins=50)\n",
    "        axs[0, 0].set_xlabel(numerical_col)\n",
    "        axs[0, 0].set_title(numerical_col + ' Distribution')\n",
    "\n",
    "        # Boxplot\n",
    "        sns.boxplot(y=numerical_col, data=dataframe, ax=axs[0, 1])\n",
    "        axs[0, 1].set_title(\"Boxplot of \" + numerical_col)\n",
    "\n",
    "        # Violin Plot\n",
    "        sns.violinplot(y=numerical_col, data=dataframe, ax=axs[1, 0])\n",
    "        axs[1, 0].set_title(\"Violin Plot of \" + numerical_col)\n",
    "\n",
    "        # Density Plot\n",
    "        sns.kdeplot(dataframe[numerical_col], shade=True, ax=axs[1, 1])\n",
    "        axs[1, 1].set_xlabel(numerical_col)\n",
    "        axs[1, 1].set_title(numerical_col + ' Density')\n",
    "\n",
    "        # QQ Plot\n",
    "        stats.probplot(dataframe[numerical_col], dist=\"norm\", plot=axs[2, 0])\n",
    "        axs[2, 0].set_title(numerical_col + ' QQ Plot')\n",
    "\n",
    "        # Correlation Heatmap\n",
    "        corr = dataframe[[numerical_col, target_col]].corr()\n",
    "        sns.heatmap(corr, annot=True, cmap='Blues', ax=axs[2, 1],\n",
    "                    annot_kws={\"size\": 16, \"weight\": \"bold\", \"color\": \"red\"})\n",
    "        axs[2, 1].set_title(f'Correlation Heatmap of {numerical_col} and {target_col}')\n",
    "\n",
    "        plt.tight_layout()\n",
    "        plt.show()\n",
    "\n",
    "    print(\"#####################################\")\n",
    "\n",
    "for col in num_cols[:-1]:\n",
    "    num_summary(df, col, plot=True, target_col=\"label\")"
   ],
   "id": "cdc79f00f3ce5f5f"
  },
  {
   "metadata": {},
   "cell_type": "markdown",
   "source": [
    "# LabelEncoding\n",
    "- 0 = negative  \n",
    "- 1 = neutral  \n",
    "- 2 = positive  "
   ],
   "id": "e955232582bcef9d"
  },
  {
   "metadata": {
    "ExecuteTime": {
     "end_time": "2024-10-15T11:57:49.682509Z",
     "start_time": "2024-10-15T11:57:49.679006Z"
    }
   },
   "cell_type": "code",
   "source": "df[\"label\"] = LabelEncoder().fit_transform(df[\"label\"])",
   "id": "f54e8ca868a26996",
   "outputs": [],
   "execution_count": 119
  },
  {
   "metadata": {
    "ExecuteTime": {
     "end_time": "2024-10-15T11:57:50.552229Z",
     "start_time": "2024-10-15T11:57:50.547657Z"
    }
   },
   "cell_type": "code",
   "source": "df[\"label\"].value_counts()",
   "id": "dd7026df608774f4",
   "outputs": [
    {
     "data": {
      "text/plain": [
       "label\n",
       "1    8448\n",
       "0    2904\n",
       "2    1607\n",
       "Name: count, dtype: int64"
      ]
     },
     "execution_count": 120,
     "metadata": {},
     "output_type": "execute_result"
    }
   ],
   "execution_count": 120
  },
  {
   "metadata": {},
   "cell_type": "markdown",
   "source": "# TF-IDF MATRIX",
   "id": "50b11d2d422eb767"
  },
  {
   "metadata": {
    "ExecuteTime": {
     "end_time": "2024-10-15T11:57:53.165019Z",
     "start_time": "2024-10-15T11:57:53.158642Z"
    }
   },
   "cell_type": "code",
   "source": "vectorizer = TfidfVectorizer()",
   "id": "2e6272f7beceeda7",
   "outputs": [],
   "execution_count": 122
  },
  {
   "metadata": {
    "ExecuteTime": {
     "end_time": "2024-10-15T11:57:53.877370Z",
     "start_time": "2024-10-15T11:57:53.742496Z"
    }
   },
   "cell_type": "code",
   "source": [
    "X = vectorizer.fit_transform(df[\"tweet\"])\n",
    "y = df[\"label\"]"
   ],
   "id": "fa59092cc814ff76",
   "outputs": [],
   "execution_count": 123
  },
  {
   "metadata": {},
   "cell_type": "markdown",
   "source": "# LOGISTIC REGRESSION",
   "id": "5982d33bee36d8ff"
  },
  {
   "metadata": {
    "ExecuteTime": {
     "end_time": "2024-10-15T11:57:56.415820Z",
     "start_time": "2024-10-15T11:57:55.314937Z"
    }
   },
   "cell_type": "code",
   "source": "log_model = LogisticRegression().fit(X, y)",
   "id": "a50fc9708d56b637",
   "outputs": [],
   "execution_count": 124
  },
  {
   "metadata": {
    "ExecuteTime": {
     "end_time": "2024-10-15T11:58:06.613924Z",
     "start_time": "2024-10-15T11:57:57.309556Z"
    }
   },
   "cell_type": "code",
   "source": "cross_val_score(log_model, X, y, cv=10, scoring=\"accuracy\").mean()",
   "id": "f1d26fcdf5bb9e89",
   "outputs": [
    {
     "data": {
      "text/plain": [
       "0.6654838171504838"
      ]
     },
     "execution_count": 125,
     "metadata": {},
     "output_type": "execute_result"
    }
   ],
   "execution_count": 125
  },
  {
   "metadata": {},
   "cell_type": "markdown",
   "source": "# Loading the dataset we will predict.",
   "id": "7d0f6991119e757f"
  },
  {
   "metadata": {
    "ExecuteTime": {
     "end_time": "2024-10-15T11:58:33.650429Z",
     "start_time": "2024-10-15T11:58:33.593917Z"
    }
   },
   "cell_type": "code",
   "source": [
    "df_new = pd.read_csv(\"/Users/mustafaemircan/PycharmProjects/MiuulBootcamp/PROJECTS/NLP PROJECTS/TwitterBot/tweets_21.csv\")\n",
    "df_new.head()"
   ],
   "id": "e60df31951037902",
   "outputs": [
    {
     "data": {
      "text/plain": [
       "              tweet_id                                              tweet                 date\n",
       "0  1344798002490314752  Kardesim (12) sevdigi cocuga 00:00 da ilan-i a...  2021-01-01 03:10:03\n",
       "1  1344799527673470977  Bu yılbaşı da saat tam 00:00'da swni seviyorum...  2021-01-01 03:16:07\n",
       "2  1344799907719348226  tam 00.00da naptınız ben her yıl tam bu vakit ...  2021-01-01 03:17:37\n",
       "3  1344800782802165762  00:00'da havai fişek gösterisi yapıldı tam dib...  2021-01-01 03:21:06\n",
       "4  1344805589990453249  31 aralık saat 00.00 da yeni yılımızı kutlayan...  2021-01-01 03:40:12"
      ],
      "text/html": [
       "<div>\n",
       "<style scoped>\n",
       "    .dataframe tbody tr th:only-of-type {\n",
       "        vertical-align: middle;\n",
       "    }\n",
       "\n",
       "    .dataframe tbody tr th {\n",
       "        vertical-align: top;\n",
       "    }\n",
       "\n",
       "    .dataframe thead th {\n",
       "        text-align: right;\n",
       "    }\n",
       "</style>\n",
       "<table border=\"1\" class=\"dataframe\">\n",
       "  <thead>\n",
       "    <tr style=\"text-align: right;\">\n",
       "      <th></th>\n",
       "      <th>tweet_id</th>\n",
       "      <th>tweet</th>\n",
       "      <th>date</th>\n",
       "    </tr>\n",
       "  </thead>\n",
       "  <tbody>\n",
       "    <tr>\n",
       "      <th>0</th>\n",
       "      <td>1344798002490314752</td>\n",
       "      <td>Kardesim (12) sevdigi cocuga 00:00 da ilan-i a...</td>\n",
       "      <td>2021-01-01 03:10:03</td>\n",
       "    </tr>\n",
       "    <tr>\n",
       "      <th>1</th>\n",
       "      <td>1344799527673470977</td>\n",
       "      <td>Bu yılbaşı da saat tam 00:00'da swni seviyorum...</td>\n",
       "      <td>2021-01-01 03:16:07</td>\n",
       "    </tr>\n",
       "    <tr>\n",
       "      <th>2</th>\n",
       "      <td>1344799907719348226</td>\n",
       "      <td>tam 00.00da naptınız ben her yıl tam bu vakit ...</td>\n",
       "      <td>2021-01-01 03:17:37</td>\n",
       "    </tr>\n",
       "    <tr>\n",
       "      <th>3</th>\n",
       "      <td>1344800782802165762</td>\n",
       "      <td>00:00'da havai fişek gösterisi yapıldı tam dib...</td>\n",
       "      <td>2021-01-01 03:21:06</td>\n",
       "    </tr>\n",
       "    <tr>\n",
       "      <th>4</th>\n",
       "      <td>1344805589990453249</td>\n",
       "      <td>31 aralık saat 00.00 da yeni yılımızı kutlayan...</td>\n",
       "      <td>2021-01-01 03:40:12</td>\n",
       "    </tr>\n",
       "  </tbody>\n",
       "</table>\n",
       "</div>"
      ]
     },
     "execution_count": 126,
     "metadata": {},
     "output_type": "execute_result"
    }
   ],
   "execution_count": 126
  },
  {
   "metadata": {},
   "cell_type": "markdown",
   "source": "# Text Formatting and Cleaning",
   "id": "f1a07603ae5f4f91"
  },
  {
   "metadata": {
    "ExecuteTime": {
     "end_time": "2024-10-15T11:59:45.887223Z",
     "start_time": "2024-10-15T11:59:45.865430Z"
    }
   },
   "cell_type": "code",
   "source": "df_new[\"tweet\"] = df[\"tweet\"].str.lower()",
   "id": "22886934f852ab1d",
   "outputs": [],
   "execution_count": 128
  },
  {
   "metadata": {
    "ExecuteTime": {
     "end_time": "2024-10-15T11:59:46.516988Z",
     "start_time": "2024-10-15T11:59:46.501885Z"
    }
   },
   "cell_type": "code",
   "source": "df[\"tweet\"] = df[\"tweet\"].str.replace('[^\\w\\s]', ' ', regex=True)",
   "id": "f3cd68b6c0208d9b",
   "outputs": [],
   "execution_count": 129
  },
  {
   "metadata": {
    "ExecuteTime": {
     "end_time": "2024-10-15T11:59:47.332221Z",
     "start_time": "2024-10-15T11:59:47.315258Z"
    }
   },
   "cell_type": "code",
   "source": "df[\"tweet\"] = df[\"tweet\"].str.replace('\\d', '', regex=True)",
   "id": "a0a565d6d50009c5",
   "outputs": [],
   "execution_count": 130
  },
  {
   "metadata": {
    "ExecuteTime": {
     "end_time": "2024-10-15T11:59:48.215248Z",
     "start_time": "2024-10-15T11:59:48.210889Z"
    }
   },
   "cell_type": "code",
   "source": [
    "import nltk\n",
    "\n",
    "nltk.download(\"stopwords\")\n",
    "sw = stopwords.words(\"turkish\")"
   ],
   "id": "3197c3d1b7924344",
   "outputs": [
    {
     "name": "stderr",
     "output_type": "stream",
     "text": [
      "[nltk_data] Downloading package stopwords to\n",
      "[nltk_data]     /Users/mustafaemircan/nltk_data...\n",
      "[nltk_data]   Package stopwords is already up-to-date!\n"
     ]
    }
   ],
   "execution_count": 131
  },
  {
   "metadata": {
    "ExecuteTime": {
     "end_time": "2024-10-15T11:59:51.961790Z",
     "start_time": "2024-10-15T11:59:51.884786Z"
    }
   },
   "cell_type": "code",
   "source": [
    "df[\"tweet\"] = df[\"tweet\"].apply(lambda x: \" \".join(x for x in str(x).split() if x not in sw))\n",
    "df[\"tweet\"].head()"
   ],
   "id": "dd5e1c7f3d906f75",
   "outputs": [
    {
     "data": {
      "text/plain": [
       "0    berk ali kedim seni özledim ölmek küçücüktün s...\n",
       "1    öylesine ciddiye alacaksın yaşamayı yetmişinde...\n",
       "2                  saçlarının gölgesinde ölmek güzeldi\n",
       "3    öyle güzel baktın gözlerime sevmek değil ölmek...\n",
       "4      sevmek ölmek değil şeye rağmen yaşayabilmek miş\n",
       "Name: tweet, dtype: object"
      ]
     },
     "execution_count": 132,
     "metadata": {},
     "output_type": "execute_result"
    }
   ],
   "execution_count": 132
  },
  {
   "metadata": {
    "ExecuteTime": {
     "end_time": "2024-10-15T11:59:58.095163Z",
     "start_time": "2024-10-15T11:59:57.759553Z"
    }
   },
   "cell_type": "code",
   "source": [
    "nltk.download('wordnet')\n",
    "df['tweet'] = df['tweet'].apply(lambda x: \" \".join([Word(word).lemmatize() for word in x.split()]))\n",
    "df[\"tweet\"].head()"
   ],
   "id": "aa627e55660c0cdd",
   "outputs": [
    {
     "name": "stderr",
     "output_type": "stream",
     "text": [
      "[nltk_data] Downloading package wordnet to\n",
      "[nltk_data]     /Users/mustafaemircan/nltk_data...\n",
      "[nltk_data]   Package wordnet is already up-to-date!\n"
     ]
    },
    {
     "data": {
      "text/plain": [
       "0    berk ali kedim seni özledim ölmek küçücüktün s...\n",
       "1    öylesine ciddiye alacaksın yaşamayı yetmişinde...\n",
       "2                  saçlarının gölgesinde ölmek güzeldi\n",
       "3    öyle güzel baktın gözlerime sevmek değil ölmek...\n",
       "4      sevmek ölmek değil şeye rağmen yaşayabilmek miş\n",
       "Name: tweet, dtype: object"
      ]
     },
     "execution_count": 133,
     "metadata": {},
     "output_type": "execute_result"
    }
   ],
   "execution_count": 133
  },
  {
   "metadata": {
    "ExecuteTime": {
     "end_time": "2024-10-15T12:02:39.940194Z",
     "start_time": "2024-10-15T12:02:39.923266Z"
    }
   },
   "cell_type": "code",
   "source": "df_new.dropna(axis=0, inplace=True)",
   "id": "5698e262e09c2201",
   "outputs": [],
   "execution_count": 138
  },
  {
   "metadata": {},
   "cell_type": "markdown",
   "source": "# Applying TF-IDF to our prediction dataset.",
   "id": "465cefe45f1ac645"
  },
  {
   "metadata": {
    "ExecuteTime": {
     "end_time": "2024-10-15T12:02:40.635583Z",
     "start_time": "2024-10-15T12:02:40.534970Z"
    }
   },
   "cell_type": "code",
   "source": "tweet_tf_idf = vectorizer.transform(df_new[\"tweet\"])",
   "id": "ca8e82900661035d",
   "outputs": [],
   "execution_count": 139
  },
  {
   "metadata": {},
   "cell_type": "markdown",
   "source": "# PREDICTIONS",
   "id": "6788389ea183c43d"
  },
  {
   "metadata": {
    "ExecuteTime": {
     "end_time": "2024-10-15T12:03:17.095135Z",
     "start_time": "2024-10-15T12:03:17.087132Z"
    }
   },
   "cell_type": "code",
   "source": "predictions = log_model.predict(tweet_tf_idf)",
   "id": "862a1f56610777a3",
   "outputs": [],
   "execution_count": 140
  },
  {
   "metadata": {
    "ExecuteTime": {
     "end_time": "2024-10-15T12:03:32.335972Z",
     "start_time": "2024-10-15T12:03:32.323992Z"
    }
   },
   "cell_type": "code",
   "source": "df_new[\"label\"] = predictions",
   "id": "9d6f14ac403f2f4a",
   "outputs": [],
   "execution_count": 141
  },
  {
   "metadata": {
    "ExecuteTime": {
     "end_time": "2024-10-15T12:03:40.685735Z",
     "start_time": "2024-10-15T12:03:40.670836Z"
    }
   },
   "cell_type": "code",
   "source": "df_new.head()",
   "id": "5f1d901cb09aad94",
   "outputs": [
    {
     "data": {
      "text/plain": [
       "              tweet_id                                              tweet                 date  label\n",
       "0  1344798002490314752  berk ali kedim seni özledim ölmek küçücüktün s...  2021-01-01 03:10:03      2\n",
       "1  1344799527673470977  öylesine ciddiye alacaksın yaşamayı yetmişinde...  2021-01-01 03:16:07      1\n",
       "2  1344799907719348226                saçlarının gölgesinde ölmek güzeldi  2021-01-01 03:17:37      1\n",
       "3  1344800782802165762  öyle güzel baktın gözlerime sevmek değil ölmek...  2021-01-01 03:21:06      1\n",
       "4  1344805589990453249    sevmek ölmek değil şeye rağmen yaşayabilmek miş  2021-01-01 03:40:12      1"
      ],
      "text/html": [
       "<div>\n",
       "<style scoped>\n",
       "    .dataframe tbody tr th:only-of-type {\n",
       "        vertical-align: middle;\n",
       "    }\n",
       "\n",
       "    .dataframe tbody tr th {\n",
       "        vertical-align: top;\n",
       "    }\n",
       "\n",
       "    .dataframe thead th {\n",
       "        text-align: right;\n",
       "    }\n",
       "</style>\n",
       "<table border=\"1\" class=\"dataframe\">\n",
       "  <thead>\n",
       "    <tr style=\"text-align: right;\">\n",
       "      <th></th>\n",
       "      <th>tweet_id</th>\n",
       "      <th>tweet</th>\n",
       "      <th>date</th>\n",
       "      <th>label</th>\n",
       "    </tr>\n",
       "  </thead>\n",
       "  <tbody>\n",
       "    <tr>\n",
       "      <th>0</th>\n",
       "      <td>1344798002490314752</td>\n",
       "      <td>berk ali kedim seni özledim ölmek küçücüktün s...</td>\n",
       "      <td>2021-01-01 03:10:03</td>\n",
       "      <td>2</td>\n",
       "    </tr>\n",
       "    <tr>\n",
       "      <th>1</th>\n",
       "      <td>1344799527673470977</td>\n",
       "      <td>öylesine ciddiye alacaksın yaşamayı yetmişinde...</td>\n",
       "      <td>2021-01-01 03:16:07</td>\n",
       "      <td>1</td>\n",
       "    </tr>\n",
       "    <tr>\n",
       "      <th>2</th>\n",
       "      <td>1344799907719348226</td>\n",
       "      <td>saçlarının gölgesinde ölmek güzeldi</td>\n",
       "      <td>2021-01-01 03:17:37</td>\n",
       "      <td>1</td>\n",
       "    </tr>\n",
       "    <tr>\n",
       "      <th>3</th>\n",
       "      <td>1344800782802165762</td>\n",
       "      <td>öyle güzel baktın gözlerime sevmek değil ölmek...</td>\n",
       "      <td>2021-01-01 03:21:06</td>\n",
       "      <td>1</td>\n",
       "    </tr>\n",
       "    <tr>\n",
       "      <th>4</th>\n",
       "      <td>1344805589990453249</td>\n",
       "      <td>sevmek ölmek değil şeye rağmen yaşayabilmek miş</td>\n",
       "      <td>2021-01-01 03:40:12</td>\n",
       "      <td>1</td>\n",
       "    </tr>\n",
       "  </tbody>\n",
       "</table>\n",
       "</div>"
      ]
     },
     "execution_count": 142,
     "metadata": {},
     "output_type": "execute_result"
    }
   ],
   "execution_count": 142
  },
  {
   "metadata": {},
   "cell_type": "markdown",
   "source": [
    "# NOTE : \n",
    "- 0 = negative  \n",
    "- 1 = neutral  \n",
    "- 2 = positive  "
   ],
   "id": "1cc32dd8584bee9c"
  },
  {
   "metadata": {
    "ExecuteTime": {
     "end_time": "2024-10-15T12:03:56.757934Z",
     "start_time": "2024-10-15T12:03:56.746442Z"
    }
   },
   "cell_type": "code",
   "source": "df_new[\"label\"].value_counts()",
   "id": "7b0d76692020ae22",
   "outputs": [
    {
     "data": {
      "text/plain": [
       "label\n",
       "1    10572\n",
       "0     1631\n",
       "2      756\n",
       "Name: count, dtype: int64"
      ]
     },
     "execution_count": 143,
     "metadata": {},
     "output_type": "execute_result"
    }
   ],
   "execution_count": 143
  },
  {
   "metadata": {
    "ExecuteTime": {
     "end_time": "2024-10-15T12:05:02.059632Z",
     "start_time": "2024-10-15T12:05:01.965004Z"
    }
   },
   "cell_type": "code",
   "source": [
    "label_counts = df_new[\"label\"].value_counts()\n",
    "\n",
    "plt.figure(figsize=(8, 6))\n",
    "label_counts.plot(kind='bar', color=['skyblue', 'gold', 'purple'])\n",
    "\n",
    "plt.title('Label Değerlerinin Dağılımı')\n",
    "plt.xlabel('Label Değerleri')\n",
    "plt.ylabel('Frekans')\n",
    "plt.xticks(rotation=0)  \n",
    "plt.show()"
   ],
   "id": "77047fd75e32518d",
   "outputs": [
    {
     "data": {
      "text/plain": [
       "<Figure size 800x600 with 1 Axes>"
      ],
      "image/png": "[encoded data removed]"
     },
     "metadata": {},
     "output_type": "display_data"
    }
   ],
   "execution_count": 144
  },
  {
   "metadata": {},
   "cell_type": "markdown",
   "source": "# THANKS.",
   "id": "c5eadf59b09d2091"
  }
 ],
 "metadata": {
  "kernelspec": {
   "display_name": "Python 3",
   "language": "python",
   "name": "python3"
  },
  "language_info": {
   "codemirror_mode": {
    "name": "ipython",
    "version": 2
   },
   "file_extension": ".py",
   "mimetype": "text/x-python",
   "name": "python",
   "nbconvert_exporter": "python",
   "pygments_lexer": "ipython2",
   "version": "2.7.6"
  }
 },
 "nbformat": 4,
 "nbformat_minor": 5
}
